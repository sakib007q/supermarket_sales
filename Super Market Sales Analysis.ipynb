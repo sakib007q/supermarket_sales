{
 "cells": [
  {
   "cell_type": "code",
   "execution_count": 15,
   "id": "21e757a3",
   "metadata": {},
   "outputs": [],
   "source": [
    "#importing necessary libraries\n",
    "import numpy as np\n",
    "import pandas as pd\n",
    "import matplotlib as plt"
   ]
  },
  {
   "cell_type": "code",
   "execution_count": 16,
   "id": "c47b35b7",
   "metadata": {},
   "outputs": [],
   "source": [
    "#importing dataset\n",
    "df=pd.read_csv('Sample - Superstore.csv',encoding=\"unicode_escape\")"
   ]
  },
  {
   "cell_type": "code",
   "execution_count": 17,
   "id": "ac5a3a6f-af0e-4812-9f27-0e11656ad469",
   "metadata": {},
   "outputs": [
    {
     "data": {
      "text/plain": [
       "Index(['Row ID', 'Order ID', 'Order Date', 'Ship Date', 'Ship Mode',\n",
       "       'Customer ID', 'Customer Name', 'Segment', 'Country', 'City', 'State',\n",
       "       'Postal Code', 'Region', 'Product ID', 'Category', 'Sub-Category',\n",
       "       'Product Name', 'Sales', 'Quantity', 'Discount', 'Profit'],\n",
       "      dtype='object')"
      ]
     },
     "execution_count": 17,
     "metadata": {},
     "output_type": "execute_result"
    }
   ],
   "source": [
    "df.columns"
   ]
  },
  {
   "cell_type": "code",
   "execution_count": 18,
   "id": "1f28d58e-befd-42de-8203-41c7982037e9",
   "metadata": {},
   "outputs": [
    {
     "data": {
      "text/plain": [
       "Row ID            3\n",
       "Order ID         17\n",
       "Order Date        6\n",
       "Ship Date         3\n",
       "Ship Mode         4\n",
       "Customer ID       1\n",
       "Customer Name     4\n",
       "Segment           5\n",
       "Country           2\n",
       "City              3\n",
       "State             1\n",
       "Postal Code       4\n",
       "Region            2\n",
       "Product ID        3\n",
       "Category          2\n",
       "Sub-Category      4\n",
       "Product Name      1\n",
       "Sales            16\n",
       "Quantity          8\n",
       "Discount          7\n",
       "Profit           23\n",
       "dtype: int64"
      ]
     },
     "execution_count": 18,
     "metadata": {},
     "output_type": "execute_result"
    }
   ],
   "source": [
    "#checking null values\n",
    "df.isnull().sum()"
   ]
  },
  {
   "cell_type": "code",
   "execution_count": 19,
   "id": "c23b56e7",
   "metadata": {},
   "outputs": [
    {
     "data": {
      "text/plain": [
       "0"
      ]
     },
     "execution_count": 19,
     "metadata": {},
     "output_type": "execute_result"
    }
   ],
   "source": [
    "#checking duplicate values\n",
    "df.duplicated().sum()"
   ]
  },
  {
   "cell_type": "code",
   "execution_count": 20,
   "id": "1b7056e0",
   "metadata": {},
   "outputs": [
    {
     "name": "stdout",
     "output_type": "stream",
     "text": [
      "<class 'pandas.core.frame.DataFrame'>\n",
      "RangeIndex: 9994 entries, 0 to 9993\n",
      "Data columns (total 21 columns):\n",
      " #   Column         Non-Null Count  Dtype  \n",
      "---  ------         --------------  -----  \n",
      " 0   Row ID         9991 non-null   float64\n",
      " 1   Order ID       9977 non-null   object \n",
      " 2   Order Date     9988 non-null   object \n",
      " 3   Ship Date      9991 non-null   object \n",
      " 4   Ship Mode      9990 non-null   object \n",
      " 5   Customer ID    9993 non-null   object \n",
      " 6   Customer Name  9990 non-null   object \n",
      " 7   Segment        9989 non-null   object \n",
      " 8   Country        9992 non-null   object \n",
      " 9   City           9991 non-null   object \n",
      " 10  State          9993 non-null   object \n",
      " 11  Postal Code    9990 non-null   float64\n",
      " 12  Region         9992 non-null   object \n",
      " 13  Product ID     9991 non-null   object \n",
      " 14  Category       9992 non-null   object \n",
      " 15  Sub-Category   9990 non-null   object \n",
      " 16  Product Name   9993 non-null   object \n",
      " 17  Sales          9978 non-null   float64\n",
      " 18  Quantity       9986 non-null   float64\n",
      " 19  Discount       9987 non-null   float64\n",
      " 20  Profit         9971 non-null   float64\n",
      "dtypes: float64(6), object(15)\n",
      "memory usage: 1.6+ MB\n"
     ]
    }
   ],
   "source": [
    "#exploring dataset\n",
    "df.info()"
   ]
  },
  {
   "cell_type": "code",
   "execution_count": 21,
   "id": "b18ab138-32b4-4f1a-9a4a-07e34b8d0d79",
   "metadata": {},
   "outputs": [],
   "source": [
    "df[\"Order Date\"]=pd.to_datetime(df[\"Order Date\"])\n",
    "df[\"Ship Date\"]=pd.to_datetime(df[\"Ship Date\"])"
   ]
  },
  {
   "cell_type": "code",
   "execution_count": 22,
   "id": "38a95984-2b36-421f-ae6c-679c5143bae9",
   "metadata": {},
   "outputs": [],
   "source": [
    "#delete 'Row ID' & 'Country' column\n",
    "df=df.drop(columns=['Row ID','Country'])"
   ]
  },
  {
   "cell_type": "code",
   "execution_count": 23,
   "id": "6896ee8f",
   "metadata": {},
   "outputs": [],
   "source": [
    "#deleting missing values in customer_id & customer_name\n",
    "df=df.dropna(subset=['Customer ID','Customer Name','Order ID','Product ID'])"
   ]
  },
  {
   "cell_type": "code",
   "execution_count": 24,
   "id": "9a6cf02c",
   "metadata": {},
   "outputs": [],
   "source": [
    "#filling values with their previous values\n",
    "df['Segment']=df['Segment'].ffill()\n",
    "df['City']=df['City'].ffill()\n",
    "df['Ship Mode']=df['Ship Mode'].ffill()\n",
    "df['Region']=df['Region'].ffill()\n",
    "df['Category']=df['Category'].ffill()\n",
    "df['Sub-Category']=df['Sub-Category'].ffill()\n",
    "df['Product Name']=df['Product Name'].ffill()\n",
    "df['Order Date']=df['Order Date'].ffill()\n",
    "df['Ship Date']=df['Ship Date'].ffill()\n",
    "df['Postal Code']=df['Postal Code'].ffill()\n",
    "\n",
    "#filling values with their mean values\n",
    "df['Profit']=df['Profit'].fillna(df['Profit'].mean())\n",
    "df['Discount']=df['Discount'].fillna(df['Discount'].mean())\n",
    "df['Sales']=df['Sales'].fillna(df['Sales'].mean())\n",
    "df['Quantity']=df['Quantity'].fillna(df['Quantity'].mean())"
   ]
  },
  {
   "cell_type": "code",
   "execution_count": 25,
   "id": "d6fe22e3-8189-4b4a-adf1-9bdc58deef4e",
   "metadata": {},
   "outputs": [
    {
     "name": "stdout",
     "output_type": "stream",
     "text": [
      "<class 'pandas.core.frame.DataFrame'>\n",
      "Index: 9972 entries, 0 to 9993\n",
      "Data columns (total 19 columns):\n",
      " #   Column         Non-Null Count  Dtype         \n",
      "---  ------         --------------  -----         \n",
      " 0   Order ID       9972 non-null   object        \n",
      " 1   Order Date     9972 non-null   datetime64[ns]\n",
      " 2   Ship Date      9972 non-null   datetime64[ns]\n",
      " 3   Ship Mode      9972 non-null   object        \n",
      " 4   Customer ID    9972 non-null   object        \n",
      " 5   Customer Name  9972 non-null   object        \n",
      " 6   Segment        9972 non-null   object        \n",
      " 7   City           9972 non-null   object        \n",
      " 8   State          9972 non-null   object        \n",
      " 9   Postal Code    9972 non-null   float64       \n",
      " 10  Region         9972 non-null   object        \n",
      " 11  Product ID     9972 non-null   object        \n",
      " 12  Category       9972 non-null   object        \n",
      " 13  Sub-Category   9972 non-null   object        \n",
      " 14  Product Name   9972 non-null   object        \n",
      " 15  Sales          9972 non-null   float64       \n",
      " 16  Quantity       9972 non-null   float64       \n",
      " 17  Discount       9972 non-null   float64       \n",
      " 18  Profit         9972 non-null   float64       \n",
      "dtypes: datetime64[ns](2), float64(5), object(12)\n",
      "memory usage: 1.5+ MB\n"
     ]
    }
   ],
   "source": [
    "df.info()"
   ]
  },
  {
   "cell_type": "code",
   "execution_count": 26,
   "id": "d236e28b-2766-4364-b964-3d6aed1d9d6d",
   "metadata": {},
   "outputs": [
    {
     "data": {
      "text/plain": [
       "Order ID         0\n",
       "Order Date       0\n",
       "Ship Date        0\n",
       "Ship Mode        0\n",
       "Customer ID      0\n",
       "Customer Name    0\n",
       "Segment          0\n",
       "City             0\n",
       "State            0\n",
       "Postal Code      0\n",
       "Region           0\n",
       "Product ID       0\n",
       "Category         0\n",
       "Sub-Category     0\n",
       "Product Name     0\n",
       "Sales            0\n",
       "Quantity         0\n",
       "Discount         0\n",
       "Profit           0\n",
       "dtype: int64"
      ]
     },
     "execution_count": 26,
     "metadata": {},
     "output_type": "execute_result"
    }
   ],
   "source": [
    "#checking\n",
    "df.isnull().sum()"
   ]
  },
  {
   "cell_type": "code",
   "execution_count": 27,
   "id": "44edd969",
   "metadata": {},
   "outputs": [
    {
     "data": {
      "text/html": [
       "<div>\n",
       "<style scoped>\n",
       "    .dataframe tbody tr th:only-of-type {\n",
       "        vertical-align: middle;\n",
       "    }\n",
       "\n",
       "    .dataframe tbody tr th {\n",
       "        vertical-align: top;\n",
       "    }\n",
       "\n",
       "    .dataframe thead th {\n",
       "        text-align: right;\n",
       "    }\n",
       "</style>\n",
       "<table border=\"1\" class=\"dataframe\">\n",
       "  <thead>\n",
       "    <tr style=\"text-align: right;\">\n",
       "      <th></th>\n",
       "      <th>Order Date</th>\n",
       "      <th>Ship Date</th>\n",
       "      <th>Postal Code</th>\n",
       "      <th>Sales</th>\n",
       "      <th>Quantity</th>\n",
       "      <th>Discount</th>\n",
       "      <th>Profit</th>\n",
       "    </tr>\n",
       "  </thead>\n",
       "  <tbody>\n",
       "    <tr>\n",
       "      <th>count</th>\n",
       "      <td>9972</td>\n",
       "      <td>9972</td>\n",
       "      <td>9972.000000</td>\n",
       "      <td>9972.000000</td>\n",
       "      <td>9972.000000</td>\n",
       "      <td>9972.000000</td>\n",
       "      <td>9972.000000</td>\n",
       "    </tr>\n",
       "    <tr>\n",
       "      <th>mean</th>\n",
       "      <td>2016-04-30 11:29:49.169675008</td>\n",
       "      <td>2016-05-04 08:46:21.227437056</td>\n",
       "      <td>55210.886382</td>\n",
       "      <td>229.888028</td>\n",
       "      <td>3.789664</td>\n",
       "      <td>0.156050</td>\n",
       "      <td>28.806229</td>\n",
       "    </tr>\n",
       "    <tr>\n",
       "      <th>min</th>\n",
       "      <td>2014-01-03 00:00:00</td>\n",
       "      <td>2014-01-07 00:00:00</td>\n",
       "      <td>1040.000000</td>\n",
       "      <td>0.444000</td>\n",
       "      <td>1.000000</td>\n",
       "      <td>0.000000</td>\n",
       "      <td>-6599.978000</td>\n",
       "    </tr>\n",
       "    <tr>\n",
       "      <th>25%</th>\n",
       "      <td>2015-05-24 00:00:00</td>\n",
       "      <td>2015-05-27 00:00:00</td>\n",
       "      <td>23223.000000</td>\n",
       "      <td>17.307500</td>\n",
       "      <td>2.000000</td>\n",
       "      <td>0.000000</td>\n",
       "      <td>1.748325</td>\n",
       "    </tr>\n",
       "    <tr>\n",
       "      <th>50%</th>\n",
       "      <td>2016-06-26 00:00:00</td>\n",
       "      <td>2016-06-29 12:00:00</td>\n",
       "      <td>57103.000000</td>\n",
       "      <td>54.780000</td>\n",
       "      <td>3.000000</td>\n",
       "      <td>0.200000</td>\n",
       "      <td>8.694000</td>\n",
       "    </tr>\n",
       "    <tr>\n",
       "      <th>75%</th>\n",
       "      <td>2017-05-14 00:00:00</td>\n",
       "      <td>2017-05-18 00:00:00</td>\n",
       "      <td>90008.000000</td>\n",
       "      <td>210.568000</td>\n",
       "      <td>5.000000</td>\n",
       "      <td>0.200000</td>\n",
       "      <td>29.341200</td>\n",
       "    </tr>\n",
       "    <tr>\n",
       "      <th>max</th>\n",
       "      <td>2017-12-30 00:00:00</td>\n",
       "      <td>2018-01-05 00:00:00</td>\n",
       "      <td>99301.000000</td>\n",
       "      <td>22638.480000</td>\n",
       "      <td>14.000000</td>\n",
       "      <td>0.800000</td>\n",
       "      <td>8399.976000</td>\n",
       "    </tr>\n",
       "    <tr>\n",
       "      <th>std</th>\n",
       "      <td>NaN</td>\n",
       "      <td>NaN</td>\n",
       "      <td>32062.432690</td>\n",
       "      <td>623.651498</td>\n",
       "      <td>2.225191</td>\n",
       "      <td>0.206323</td>\n",
       "      <td>234.317013</td>\n",
       "    </tr>\n",
       "  </tbody>\n",
       "</table>\n",
       "</div>"
      ],
      "text/plain": [
       "                          Order Date                      Ship Date  \\\n",
       "count                           9972                           9972   \n",
       "mean   2016-04-30 11:29:49.169675008  2016-05-04 08:46:21.227437056   \n",
       "min              2014-01-03 00:00:00            2014-01-07 00:00:00   \n",
       "25%              2015-05-24 00:00:00            2015-05-27 00:00:00   \n",
       "50%              2016-06-26 00:00:00            2016-06-29 12:00:00   \n",
       "75%              2017-05-14 00:00:00            2017-05-18 00:00:00   \n",
       "max              2017-12-30 00:00:00            2018-01-05 00:00:00   \n",
       "std                              NaN                            NaN   \n",
       "\n",
       "        Postal Code         Sales     Quantity     Discount       Profit  \n",
       "count   9972.000000   9972.000000  9972.000000  9972.000000  9972.000000  \n",
       "mean   55210.886382    229.888028     3.789664     0.156050    28.806229  \n",
       "min     1040.000000      0.444000     1.000000     0.000000 -6599.978000  \n",
       "25%    23223.000000     17.307500     2.000000     0.000000     1.748325  \n",
       "50%    57103.000000     54.780000     3.000000     0.200000     8.694000  \n",
       "75%    90008.000000    210.568000     5.000000     0.200000    29.341200  \n",
       "max    99301.000000  22638.480000    14.000000     0.800000  8399.976000  \n",
       "std    32062.432690    623.651498     2.225191     0.206323   234.317013  "
      ]
     },
     "execution_count": 27,
     "metadata": {},
     "output_type": "execute_result"
    }
   ],
   "source": [
    "#finding insights\n",
    "df.describe()"
   ]
  },
  {
   "cell_type": "code",
   "execution_count": 28,
   "id": "586ad988",
   "metadata": {},
   "outputs": [],
   "source": [
    "df.to_csv(\"C:\\\\Users\\\\Sakib Ahmed\\\\Desktop\\\\Final_Superstore.csv\")"
   ]
  },
  {
   "cell_type": "code",
   "execution_count": null,
   "id": "23f880ba",
   "metadata": {},
   "outputs": [],
   "source": []
  },
  {
   "cell_type": "code",
   "execution_count": null,
   "id": "3afa44f0",
   "metadata": {},
   "outputs": [],
   "source": []
  },
  {
   "cell_type": "code",
   "execution_count": null,
   "id": "3016c12e",
   "metadata": {},
   "outputs": [],
   "source": []
  },
  {
   "cell_type": "code",
   "execution_count": null,
   "id": "efe76bf8",
   "metadata": {},
   "outputs": [],
   "source": []
  },
  {
   "cell_type": "code",
   "execution_count": null,
   "id": "f2ecab8e-6477-4dda-a919-f379c5261ccb",
   "metadata": {},
   "outputs": [],
   "source": []
  }
 ],
 "metadata": {
  "kernelspec": {
   "display_name": "Python 3 (ipykernel)",
   "language": "python",
   "name": "python3"
  },
  "language_info": {
   "codemirror_mode": {
    "name": "ipython",
    "version": 3
   },
   "file_extension": ".py",
   "mimetype": "text/x-python",
   "name": "python",
   "nbconvert_exporter": "python",
   "pygments_lexer": "ipython3",
   "version": "3.12.4"
  }
 },
 "nbformat": 4,
 "nbformat_minor": 5
}
